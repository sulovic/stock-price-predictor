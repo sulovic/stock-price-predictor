{
 "cells": [
  {
   "cell_type": "markdown",
   "id": "de3da2a1",
   "metadata": {},
   "source": [
    "Get Prepared data for processing\n"
   ]
  },
  {
   "cell_type": "code",
   "execution_count": null,
   "id": "827ff5fd",
   "metadata": {},
   "outputs": [
    {
     "data": {
      "text/plain": [
       "['../data/prepared/scaler.pkl']"
      ]
     },
     "execution_count": 8,
     "metadata": {},
     "output_type": "execute_result"
    }
   ],
   "source": [
    "import os\n",
    "import pandas as pd\n",
    "import numpy as np\n",
    "import joblib\n",
    "from sklearn.model_selection import train_test_split\n",
    "from sklearn.preprocessing import MinMaxScaler\n",
    "\n",
    "df = pd.read_csv('../data/processed/Processed_data.csv',\n",
    "                 index_col='Date', parse_dates=True)\n",
    "\n",
    "sentiment_map = {'Bearish': -1, 'Neutral': 0, 'Bullish': 1}\n",
    "df['SentimentNum'] = df['Sentiment'].map(sentiment_map)\n",
    "\n",
    "# New column for date with Epoch time in seconds\n",
    "df['Date'] = df.index.astype('int64') / 10**9\n",
    "\n",
    "# Select features from Processed_data.csv\n",
    "\n",
    "X = df[[\"Date\", \"GDP growth rate (%)\", \"Unemployment rate (%)\", \"Real interest rate (%)\",\n",
    "        \"Inflation rate (%)\", \"Population growth (%)\", \"Export growth (%)\", \"SentimentScore\", \"SentimentNum\"]]\n",
    "\n",
    "# Select target variables from Processed_data.csv and replace 0 with NaN for training and testing\n",
    "\n",
    "y = df[['AAPL', 'BTC-USD', 'GOOGL', 'MSFT']].replace(0, np.nan)\n",
    "\n",
    "# Split the data into training and testing sets\n",
    "\n",
    "X_train, X_test, y_train, y_test = train_test_split(\n",
    "    X, y, test_size=0.2, shuffle=True, random_state=42)\n",
    "\n",
    "\n",
    "# Scale the features using MinMaxScaler\n",
    "\n",
    "\n",
    "scaler = MinMaxScaler()\n",
    "X_train_scaled = scaler.fit_transform(X_train)\n",
    "X_test_scaled = scaler.transform(X_test)\n",
    "y_train_scaled = scaler.fit_transform(y_train)\n",
    "y_test_scaled = scaler.transform(y_test)\n",
    "\n",
    "\n",
    "# Check if folder prepared data exists, if not create it\n",
    "if not os.path.exists('../data/prepared'):\n",
    "    os.makedirs('../data/prepared')\n",
    "\n",
    "\n",
    "# Convert numpy arrays to pandas dataframes and Save the training and testing sets to CSV files\n",
    "X_train_scaled = pd.DataFrame(\n",
    "    X_train_scaled, columns=X.columns, index=X_train.index)\n",
    "X_test_scaled = pd.DataFrame(\n",
    "    X_test_scaled, columns=X.columns, index=X_test.index)\n",
    "y_train_scaled = pd.DataFrame(\n",
    "    y_train_scaled, columns=y.columns, index=y_train.index)\n",
    "y_test_scaled = pd.DataFrame(\n",
    "    y_test_scaled, columns=y.columns, index=y_test.index)\n",
    "\n",
    "# Save the data to CSV files\n",
    "\n",
    "X_train_scaled.sort_index().to_csv('../data/prepared/X_train_scaled.csv')\n",
    "X_test_scaled.sort_index().to_csv('../data/prepared/X_test_scaled.csv')\n",
    "\n",
    "y_train_scaled.sort_index().to_csv('../data/prepared/y_train_scaled.csv')\n",
    "y_test_scaled.sort_index().to_csv('../data/prepared/y_test_scaled.csv')\n",
    "\n",
    "# Save the original data to CSV files for reference\n",
    "y_test.sort_index().to_csv('../data/prepared/y_test_original.csv')\n",
    "\n",
    "# Save the scaler to a file for later use\n",
    "\n",
    "joblib.dump(scaler, '../data/prepared/scaler.pkl')"
   ]
  }
 ],
 "metadata": {
  "kernelspec": {
   "display_name": "venv",
   "language": "python",
   "name": "python3"
  },
  "language_info": {
   "codemirror_mode": {
    "name": "ipython",
    "version": 3
   },
   "file_extension": ".py",
   "mimetype": "text/x-python",
   "name": "python",
   "nbconvert_exporter": "python",
   "pygments_lexer": "ipython3",
   "version": "3.12.3"
  }
 },
 "nbformat": 4,
 "nbformat_minor": 5
}
